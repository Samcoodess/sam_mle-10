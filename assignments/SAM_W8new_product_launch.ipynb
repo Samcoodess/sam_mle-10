{
  "cells": [
    {
      "cell_type": "markdown",
      "id": "971748d6",
      "metadata": {
        "id": "971748d6"
      },
      "source": [
        "<p align = \"center\" draggable=”false” ><img src=\"https://user-images.githubusercontent.com/37101144/161836199-fdb0219d-0361-4988-bf26-48b0fad160a3.png\" \n",
        "     width=\"200px\"\n",
        "     height=\"auto\"/>\n",
        "</p>"
      ]
    },
    {
      "cell_type": "markdown",
      "id": "82694370",
      "metadata": {
        "id": "82694370"
      },
      "source": [
        "# 🛍️ Launch New Products"
      ]
    },
    {
      "cell_type": "markdown",
      "id": "e9dde4c6",
      "metadata": {
        "id": "e9dde4c6"
      },
      "source": [
        "Today you are a machine learning engineer at the Department of New Products at Target Cosmetics! \n",
        "\n",
        "We will start with a small dataset on interactions between users and current products from the past and try to discover substructure, if there's any, by applying some **unsupervised learning** methods. \n",
        "\n",
        "Then we will leverage the small amount of labeled data (current products) in combination with a larger amount of unlabeled data (new products to launch) to make estimations as to which products will sell more. "
      ]
    },
    {
      "cell_type": "markdown",
      "id": "653e62c8",
      "metadata": {
        "id": "653e62c8"
      },
      "source": [
        "## 📚 Learning Objectives"
      ]
    },
    {
      "cell_type": "markdown",
      "id": "10907851",
      "metadata": {
        "id": "10907851"
      },
      "source": [
        "By the end of this session, you will be able to:\n",
        "\n",
        "- apply dimensionality reduction techniques to reduce features to a lower dimensional space\n",
        "- perform customer segmentation, determine optional number of clusters, and understand assumptions for used algorithm\n",
        "- understand what semi-supervised learning is and leverage it to improve performance of supervised learning"
      ]
    },
    {
      "cell_type": "markdown",
      "id": "2869071e",
      "metadata": {
        "id": "2869071e"
      },
      "source": [
        "## Task 1. Dimensionality Reduction"
      ]
    },
    {
      "cell_type": "markdown",
      "source": [
        "Dimensionality reduction is a machine learning (ML) or statistical technique of reducing the amount of random variables in a problem by obtaining a set of principal variables."
      ],
      "metadata": {
        "id": "aD1uoGYpzgeu"
      },
      "id": "aD1uoGYpzgeu"
    },
    {
      "cell_type": "markdown",
      "id": "dec7505e",
      "metadata": {
        "id": "dec7505e"
      },
      "source": [
        "1. Load in the data. \n",
        "    \n",
        "    Import `pandas` as `pd` and use `pd.read_csv()` to read in `past.csv.gz` in the `dat` folder, saving it as `past`. \n",
        "    \n",
        "    Data in `past.csv.gz` was propcessed; e.g., features indicating time of day, day of week, month, and year of the purchase have been converted to one-hot representations of these categories. "
      ]
    },
    {
      "cell_type": "code",
      "source": [
        "import numpy as np      \n",
        "import pandas as pd     \n",
        "import seaborn as sns\n",
        "import matplotlib.pyplot as plt  \n",
        "\n",
        "from sklearn.cluster import KMeans\n",
        "from sklearn.decomposition import PCA\n",
        "from sklearn.metrics import classification_report\n",
        "from sklearn.model_selection import train_test_split\n",
        "from sklearn.linear_model import LogisticRegression\n",
        "from sklearn.pipeline import make_pipeline\n",
        "from sklearn.preprocessing import StandardScaler"
      ],
      "metadata": {
        "id": "vn2RamA908q4"
      },
      "id": "vn2RamA908q4",
      "execution_count": 1,
      "outputs": []
    },
    {
      "cell_type": "code",
      "source": [
        "from google.colab import drive\n",
        "drive.mount('/content/drive')"
      ],
      "metadata": {
        "colab": {
          "base_uri": "https://localhost:8080/"
        },
        "id": "f7k-T6Bz1EFy",
        "outputId": "49487817-f135-4bd6-a25f-81b8efa3ff7d"
      },
      "id": "f7k-T6Bz1EFy",
      "execution_count": 2,
      "outputs": [
        {
          "output_type": "stream",
          "name": "stdout",
          "text": [
            "Mounted at /content/drive\n"
          ]
        }
      ]
    },
    {
      "cell_type": "code",
      "execution_count": 3,
      "id": "d63ee4f8",
      "metadata": {
        "id": "d63ee4f8"
      },
      "outputs": [],
      "source": [
        "dataset= pd.read_csv(\"/content/drive/MyDrive/MLE/MLE Week 8/data/past.csv.gz\")"
      ]
    },
    {
      "cell_type": "code",
      "source": [
        "dataset.head()"
      ],
      "metadata": {
        "colab": {
          "base_uri": "https://localhost:8080/",
          "height": 300
        },
        "id": "O_UrMp7x21FW",
        "outputId": "0b4632a3-2722-46a5-be1d-a54d57f26c55"
      },
      "id": "O_UrMp7x21FW",
      "execution_count": 4,
      "outputs": [
        {
          "output_type": "execute_result",
          "data": {
            "text/plain": [
              "   product_id       user_id  NumOfEventsInJourney  NumSessions  \\\n",
              "0     5866936  5.618978e+08              1.333333     1.333333   \n",
              "1     5647110  5.326529e+08              2.250000     1.500000   \n",
              "2     5790472  4.578109e+08              1.000000     1.000000   \n",
              "3     5811598  4.612641e+08              1.500000     1.500000   \n",
              "4     5846363  5.157993e+08              1.875000     1.375000   \n",
              "\n",
              "   interactionTime  maxPrice  minPrice  NumCart   NumView  NumRemove  ...  \\\n",
              "0         5550.000  15.84000  15.84000     0.00  1.333333       0.00  ...   \n",
              "1        27556.500   5.80000   5.56500     1.25  0.250000       0.25  ...   \n",
              "2            0.000   6.27250   6.27250     0.25  0.750000       0.00  ...   \n",
              "3       131532.500   5.56000   5.56000     0.25  1.000000       0.25  ...   \n",
              "4        11055.875   4.08625   4.08625     0.50  1.000000       0.25  ...   \n",
              "\n",
              "    Dec  Afternoon  Dawn  EarlyMorning   Evening  Morning  Night  Purchased?  \\\n",
              "0  0.00      0.000   0.0      0.666667  0.333333     0.00   0.00           0   \n",
              "1  0.25      0.750   0.0      0.000000  0.250000     0.00   0.00           0   \n",
              "2  0.00      0.000   0.0      0.000000  0.750000     0.25   0.00           0   \n",
              "3  0.25      0.000   0.0      0.000000  0.500000     0.00   0.25           0   \n",
              "4  0.25      0.375   0.0      0.125000  0.250000     0.25   0.00           1   \n",
              "\n",
              "   Noon  Category  \n",
              "0  0.00       1.0  \n",
              "1  0.00       1.0  \n",
              "2  0.00       1.0  \n",
              "3  0.25       1.0  \n",
              "4  0.00       1.0  \n",
              "\n",
              "[5 rows x 37 columns]"
            ],
            "text/html": [
              "\n",
              "  <div id=\"df-513a0f58-7e4b-4ac4-a778-b9994000686f\">\n",
              "    <div class=\"colab-df-container\">\n",
              "      <div>\n",
              "<style scoped>\n",
              "    .dataframe tbody tr th:only-of-type {\n",
              "        vertical-align: middle;\n",
              "    }\n",
              "\n",
              "    .dataframe tbody tr th {\n",
              "        vertical-align: top;\n",
              "    }\n",
              "\n",
              "    .dataframe thead th {\n",
              "        text-align: right;\n",
              "    }\n",
              "</style>\n",
              "<table border=\"1\" class=\"dataframe\">\n",
              "  <thead>\n",
              "    <tr style=\"text-align: right;\">\n",
              "      <th></th>\n",
              "      <th>product_id</th>\n",
              "      <th>user_id</th>\n",
              "      <th>NumOfEventsInJourney</th>\n",
              "      <th>NumSessions</th>\n",
              "      <th>interactionTime</th>\n",
              "      <th>maxPrice</th>\n",
              "      <th>minPrice</th>\n",
              "      <th>NumCart</th>\n",
              "      <th>NumView</th>\n",
              "      <th>NumRemove</th>\n",
              "      <th>...</th>\n",
              "      <th>Dec</th>\n",
              "      <th>Afternoon</th>\n",
              "      <th>Dawn</th>\n",
              "      <th>EarlyMorning</th>\n",
              "      <th>Evening</th>\n",
              "      <th>Morning</th>\n",
              "      <th>Night</th>\n",
              "      <th>Purchased?</th>\n",
              "      <th>Noon</th>\n",
              "      <th>Category</th>\n",
              "    </tr>\n",
              "  </thead>\n",
              "  <tbody>\n",
              "    <tr>\n",
              "      <th>0</th>\n",
              "      <td>5866936</td>\n",
              "      <td>5.618978e+08</td>\n",
              "      <td>1.333333</td>\n",
              "      <td>1.333333</td>\n",
              "      <td>5550.000</td>\n",
              "      <td>15.84000</td>\n",
              "      <td>15.84000</td>\n",
              "      <td>0.00</td>\n",
              "      <td>1.333333</td>\n",
              "      <td>0.00</td>\n",
              "      <td>...</td>\n",
              "      <td>0.00</td>\n",
              "      <td>0.000</td>\n",
              "      <td>0.0</td>\n",
              "      <td>0.666667</td>\n",
              "      <td>0.333333</td>\n",
              "      <td>0.00</td>\n",
              "      <td>0.00</td>\n",
              "      <td>0</td>\n",
              "      <td>0.00</td>\n",
              "      <td>1.0</td>\n",
              "    </tr>\n",
              "    <tr>\n",
              "      <th>1</th>\n",
              "      <td>5647110</td>\n",
              "      <td>5.326529e+08</td>\n",
              "      <td>2.250000</td>\n",
              "      <td>1.500000</td>\n",
              "      <td>27556.500</td>\n",
              "      <td>5.80000</td>\n",
              "      <td>5.56500</td>\n",
              "      <td>1.25</td>\n",
              "      <td>0.250000</td>\n",
              "      <td>0.25</td>\n",
              "      <td>...</td>\n",
              "      <td>0.25</td>\n",
              "      <td>0.750</td>\n",
              "      <td>0.0</td>\n",
              "      <td>0.000000</td>\n",
              "      <td>0.250000</td>\n",
              "      <td>0.00</td>\n",
              "      <td>0.00</td>\n",
              "      <td>0</td>\n",
              "      <td>0.00</td>\n",
              "      <td>1.0</td>\n",
              "    </tr>\n",
              "    <tr>\n",
              "      <th>2</th>\n",
              "      <td>5790472</td>\n",
              "      <td>4.578109e+08</td>\n",
              "      <td>1.000000</td>\n",
              "      <td>1.000000</td>\n",
              "      <td>0.000</td>\n",
              "      <td>6.27250</td>\n",
              "      <td>6.27250</td>\n",
              "      <td>0.25</td>\n",
              "      <td>0.750000</td>\n",
              "      <td>0.00</td>\n",
              "      <td>...</td>\n",
              "      <td>0.00</td>\n",
              "      <td>0.000</td>\n",
              "      <td>0.0</td>\n",
              "      <td>0.000000</td>\n",
              "      <td>0.750000</td>\n",
              "      <td>0.25</td>\n",
              "      <td>0.00</td>\n",
              "      <td>0</td>\n",
              "      <td>0.00</td>\n",
              "      <td>1.0</td>\n",
              "    </tr>\n",
              "    <tr>\n",
              "      <th>3</th>\n",
              "      <td>5811598</td>\n",
              "      <td>4.612641e+08</td>\n",
              "      <td>1.500000</td>\n",
              "      <td>1.500000</td>\n",
              "      <td>131532.500</td>\n",
              "      <td>5.56000</td>\n",
              "      <td>5.56000</td>\n",
              "      <td>0.25</td>\n",
              "      <td>1.000000</td>\n",
              "      <td>0.25</td>\n",
              "      <td>...</td>\n",
              "      <td>0.25</td>\n",
              "      <td>0.000</td>\n",
              "      <td>0.0</td>\n",
              "      <td>0.000000</td>\n",
              "      <td>0.500000</td>\n",
              "      <td>0.00</td>\n",
              "      <td>0.25</td>\n",
              "      <td>0</td>\n",
              "      <td>0.25</td>\n",
              "      <td>1.0</td>\n",
              "    </tr>\n",
              "    <tr>\n",
              "      <th>4</th>\n",
              "      <td>5846363</td>\n",
              "      <td>5.157993e+08</td>\n",
              "      <td>1.875000</td>\n",
              "      <td>1.375000</td>\n",
              "      <td>11055.875</td>\n",
              "      <td>4.08625</td>\n",
              "      <td>4.08625</td>\n",
              "      <td>0.50</td>\n",
              "      <td>1.000000</td>\n",
              "      <td>0.25</td>\n",
              "      <td>...</td>\n",
              "      <td>0.25</td>\n",
              "      <td>0.375</td>\n",
              "      <td>0.0</td>\n",
              "      <td>0.125000</td>\n",
              "      <td>0.250000</td>\n",
              "      <td>0.25</td>\n",
              "      <td>0.00</td>\n",
              "      <td>1</td>\n",
              "      <td>0.00</td>\n",
              "      <td>1.0</td>\n",
              "    </tr>\n",
              "  </tbody>\n",
              "</table>\n",
              "<p>5 rows × 37 columns</p>\n",
              "</div>\n",
              "      <button class=\"colab-df-convert\" onclick=\"convertToInteractive('df-513a0f58-7e4b-4ac4-a778-b9994000686f')\"\n",
              "              title=\"Convert this dataframe to an interactive table.\"\n",
              "              style=\"display:none;\">\n",
              "        \n",
              "  <svg xmlns=\"http://www.w3.org/2000/svg\" height=\"24px\"viewBox=\"0 0 24 24\"\n",
              "       width=\"24px\">\n",
              "    <path d=\"M0 0h24v24H0V0z\" fill=\"none\"/>\n",
              "    <path d=\"M18.56 5.44l.94 2.06.94-2.06 2.06-.94-2.06-.94-.94-2.06-.94 2.06-2.06.94zm-11 1L8.5 8.5l.94-2.06 2.06-.94-2.06-.94L8.5 2.5l-.94 2.06-2.06.94zm10 10l.94 2.06.94-2.06 2.06-.94-2.06-.94-.94-2.06-.94 2.06-2.06.94z\"/><path d=\"M17.41 7.96l-1.37-1.37c-.4-.4-.92-.59-1.43-.59-.52 0-1.04.2-1.43.59L10.3 9.45l-7.72 7.72c-.78.78-.78 2.05 0 2.83L4 21.41c.39.39.9.59 1.41.59.51 0 1.02-.2 1.41-.59l7.78-7.78 2.81-2.81c.8-.78.8-2.07 0-2.86zM5.41 20L4 18.59l7.72-7.72 1.47 1.35L5.41 20z\"/>\n",
              "  </svg>\n",
              "      </button>\n",
              "      \n",
              "  <style>\n",
              "    .colab-df-container {\n",
              "      display:flex;\n",
              "      flex-wrap:wrap;\n",
              "      gap: 12px;\n",
              "    }\n",
              "\n",
              "    .colab-df-convert {\n",
              "      background-color: #E8F0FE;\n",
              "      border: none;\n",
              "      border-radius: 50%;\n",
              "      cursor: pointer;\n",
              "      display: none;\n",
              "      fill: #1967D2;\n",
              "      height: 32px;\n",
              "      padding: 0 0 0 0;\n",
              "      width: 32px;\n",
              "    }\n",
              "\n",
              "    .colab-df-convert:hover {\n",
              "      background-color: #E2EBFA;\n",
              "      box-shadow: 0px 1px 2px rgba(60, 64, 67, 0.3), 0px 1px 3px 1px rgba(60, 64, 67, 0.15);\n",
              "      fill: #174EA6;\n",
              "    }\n",
              "\n",
              "    [theme=dark] .colab-df-convert {\n",
              "      background-color: #3B4455;\n",
              "      fill: #D2E3FC;\n",
              "    }\n",
              "\n",
              "    [theme=dark] .colab-df-convert:hover {\n",
              "      background-color: #434B5C;\n",
              "      box-shadow: 0px 1px 3px 1px rgba(0, 0, 0, 0.15);\n",
              "      filter: drop-shadow(0px 1px 2px rgba(0, 0, 0, 0.3));\n",
              "      fill: #FFFFFF;\n",
              "    }\n",
              "  </style>\n",
              "\n",
              "      <script>\n",
              "        const buttonEl =\n",
              "          document.querySelector('#df-513a0f58-7e4b-4ac4-a778-b9994000686f button.colab-df-convert');\n",
              "        buttonEl.style.display =\n",
              "          google.colab.kernel.accessAllowed ? 'block' : 'none';\n",
              "\n",
              "        async function convertToInteractive(key) {\n",
              "          const element = document.querySelector('#df-513a0f58-7e4b-4ac4-a778-b9994000686f');\n",
              "          const dataTable =\n",
              "            await google.colab.kernel.invokeFunction('convertToInteractive',\n",
              "                                                     [key], {});\n",
              "          if (!dataTable) return;\n",
              "\n",
              "          const docLinkHtml = 'Like what you see? Visit the ' +\n",
              "            '<a target=\"_blank\" href=https://colab.research.google.com/notebooks/data_table.ipynb>data table notebook</a>'\n",
              "            + ' to learn more about interactive tables.';\n",
              "          element.innerHTML = '';\n",
              "          dataTable['output_type'] = 'display_data';\n",
              "          await google.colab.output.renderOutput(dataTable, element);\n",
              "          const docLink = document.createElement('div');\n",
              "          docLink.innerHTML = docLinkHtml;\n",
              "          element.appendChild(docLink);\n",
              "        }\n",
              "      </script>\n",
              "    </div>\n",
              "  </div>\n",
              "  "
            ]
          },
          "metadata": {},
          "execution_count": 4
        }
      ]
    },
    {
      "cell_type": "code",
      "source": [
        "dataset.shape"
      ],
      "metadata": {
        "colab": {
          "base_uri": "https://localhost:8080/"
        },
        "id": "Nf4FTBSE25rU",
        "outputId": "86e04285-9e83-4e65-942b-e5d179ad42a9"
      },
      "id": "Nf4FTBSE25rU",
      "execution_count": 5,
      "outputs": [
        {
          "output_type": "execute_result",
          "data": {
            "text/plain": [
              "(5000, 37)"
            ]
          },
          "metadata": {},
          "execution_count": 5
        }
      ]
    },
    {
      "cell_type": "markdown",
      "id": "2c21ec92",
      "metadata": {
        "id": "2c21ec92"
      },
      "source": [
        "<details>\n",
        "<summary> Expected output </summary>\n",
        "\n",
        "```\n",
        "Index(['product_id', 'user_id', 'NumOfEventsInJourney', 'NumSessions',\n",
        "       'interactionTime', 'maxPrice', 'minPrice', 'NumCart', 'NumView',\n",
        "       'NumRemove', 'InsessionCart', 'InsessionView', 'InsessionRemove',\n",
        "       'Weekend', 'Fr', 'Mon', 'Sat', 'Sun', 'Thu', 'Tue', 'Wed', '2019',\n",
        "       '2020', 'Jan', 'Feb', 'Oct', 'Nov', 'Dec', 'Afternoon', 'Dawn',\n",
        "       'EarlyMorning', 'Evening', 'Morning', 'Night', 'Purchased?', 'Noon',\n",
        "       'Category'],\n",
        "      dtype='object')\n",
        "```\n",
        "</details>"
      ]
    },
    {
      "cell_type": "markdown",
      "id": "fec9671a",
      "metadata": {
        "id": "fec9671a"
      },
      "source": [
        "2. What percentage of the interactions (rows) resulted in a purchase?\n",
        "\n",
        "    Do people mostly buy what they look at or do they do a lot of \"window shopping\" (shopping around without buying)?\n",
        "    \n",
        "    From the perspective of classification, is the data balanced?"
      ]
    },
    {
      "cell_type": "code",
      "execution_count": 6,
      "id": "4acf13b8",
      "metadata": {
        "id": "4acf13b8",
        "colab": {
          "base_uri": "https://localhost:8080/"
        },
        "outputId": "4184c103-dc19-4538-9fe2-9118a51ec0dc"
      },
      "outputs": [
        {
          "output_type": "execute_result",
          "data": {
            "text/plain": [
              "0.3438"
            ]
          },
          "metadata": {},
          "execution_count": 6
        }
      ],
      "source": [
        "dataset['Purchased?'].mean()"
      ]
    },
    {
      "cell_type": "markdown",
      "source": [
        "**Answer:** Here we see that, there is only 1/3rd dataframe for the purchased. So, this isn't a balanced dataset from the perspective of classification. Also, 34% of the rows resulted in purcahse.\n",
        "\n",
        "\n"
      ],
      "metadata": {
        "id": "f7Zqrn3831h-"
      },
      "id": "f7Zqrn3831h-"
    },
    {
      "cell_type": "code",
      "source": [
        "dataset.columns"
      ],
      "metadata": {
        "colab": {
          "base_uri": "https://localhost:8080/"
        },
        "id": "ntuiMSuG4Vo8",
        "outputId": "9eba90ba-9df9-4a57-cd86-0a62be015a51"
      },
      "id": "ntuiMSuG4Vo8",
      "execution_count": 7,
      "outputs": [
        {
          "output_type": "execute_result",
          "data": {
            "text/plain": [
              "Index(['product_id', 'user_id', 'NumOfEventsInJourney', 'NumSessions',\n",
              "       'interactionTime', 'maxPrice', 'minPrice', 'NumCart', 'NumView',\n",
              "       'NumRemove', 'InsessionCart', 'InsessionView', 'InsessionRemove',\n",
              "       'Weekend', 'Fr', 'Mon', 'Sat', 'Sun', 'Thu', 'Tue', 'Wed', '2019',\n",
              "       '2020', 'Jan', 'Feb', 'Oct', 'Nov', 'Dec', 'Afternoon', 'Dawn',\n",
              "       'EarlyMorning', 'Evening', 'Morning', 'Night', 'Purchased?', 'Noon',\n",
              "       'Category'],\n",
              "      dtype='object')"
            ]
          },
          "metadata": {},
          "execution_count": 7
        }
      ]
    },
    {
      "cell_type": "code",
      "source": [
        "df= dataset"
      ],
      "metadata": {
        "id": "fRirSd0B4tPE"
      },
      "id": "fRirSd0B4tPE",
      "execution_count": 8,
      "outputs": []
    },
    {
      "cell_type": "code",
      "source": [
        "df['interactionTime'].corr(df['Purchased?'])"
      ],
      "metadata": {
        "colab": {
          "base_uri": "https://localhost:8080/"
        },
        "id": "C9qrLmgX30iW",
        "outputId": "a40da01f-4350-427e-a6eb-99e8aea6c432"
      },
      "id": "C9qrLmgX30iW",
      "execution_count": 9,
      "outputs": [
        {
          "output_type": "execute_result",
          "data": {
            "text/plain": [
              "0.07371676889535302"
            ]
          },
          "metadata": {},
          "execution_count": 9
        }
      ]
    },
    {
      "cell_type": "code",
      "source": [
        "sns.regplot(x=\"interactionTime\",y=\"Purchased?\",data=df)\n",
        "plt.ylim(0,)"
      ],
      "metadata": {
        "colab": {
          "base_uri": "https://localhost:8080/",
          "height": 296
        },
        "id": "l00nPAjG5bkS",
        "outputId": "8e9fef0b-d242-490f-dfd3-24389b19ef7e"
      },
      "id": "l00nPAjG5bkS",
      "execution_count": 10,
      "outputs": [
        {
          "output_type": "execute_result",
          "data": {
            "text/plain": [
              "(0.0, 1.237640142574933)"
            ]
          },
          "metadata": {},
          "execution_count": 10
        },
        {
          "output_type": "display_data",
          "data": {
            "text/plain": [
              "<Figure size 432x288 with 1 Axes>"
            ],
            "image/png": "[encoded data removed]"
          },
          "metadata": {
            "needs_background": "light"
          }
        }
      ]
    },
    {
      "cell_type": "markdown",
      "id": "560d940e",
      "metadata": {
        "id": "560d940e"
      },
      "source": [
        "3. Drop `product_id` and `user_id` and save the rest columns to a new `pd.DataFrame`:`X`; then pop the column `'Purchased?'` and save it to `y`."
      ]
    },
    {
      "cell_type": "code",
      "execution_count": 11,
      "id": "d72fed18",
      "metadata": {
        "id": "d72fed18"
      },
      "outputs": [],
      "source": [
        "new_df =df.drop(columns=['product_id','user_id'])\n",
        "x= new_df.drop(columns=['Purchased?'])\n",
        "y=new_df['Purchased?']"
      ]
    },
    {
      "cell_type": "code",
      "source": [
        "df.shape"
      ],
      "metadata": {
        "colab": {
          "base_uri": "https://localhost:8080/"
        },
        "id": "y08MXhYF8K0Z",
        "outputId": "26ff9e5e-6e6e-4c4a-fc73-2f50c108c13c"
      },
      "id": "y08MXhYF8K0Z",
      "execution_count": 12,
      "outputs": [
        {
          "output_type": "execute_result",
          "data": {
            "text/plain": [
              "(5000, 37)"
            ]
          },
          "metadata": {},
          "execution_count": 12
        }
      ]
    },
    {
      "cell_type": "code",
      "source": [
        "new_df.shape"
      ],
      "metadata": {
        "colab": {
          "base_uri": "https://localhost:8080/"
        },
        "id": "9yA-5Wcc8OJo",
        "outputId": "6eb7a7d4-9dfd-49a8-d75c-0805fcaffa1c"
      },
      "id": "9yA-5Wcc8OJo",
      "execution_count": 13,
      "outputs": [
        {
          "output_type": "execute_result",
          "data": {
            "text/plain": [
              "(5000, 35)"
            ]
          },
          "metadata": {},
          "execution_count": 13
        }
      ]
    },
    {
      "cell_type": "code",
      "source": [
        "x.shape"
      ],
      "metadata": {
        "colab": {
          "base_uri": "https://localhost:8080/"
        },
        "id": "jxBqa5Ff76df",
        "outputId": "989f6c46-cd10-48c9-b7f3-a90ddf584c7c"
      },
      "id": "jxBqa5Ff76df",
      "execution_count": 14,
      "outputs": [
        {
          "output_type": "execute_result",
          "data": {
            "text/plain": [
              "(5000, 34)"
            ]
          },
          "metadata": {},
          "execution_count": 14
        }
      ]
    },
    {
      "cell_type": "code",
      "execution_count": 15,
      "id": "7c2b48ba",
      "metadata": {
        "id": "7c2b48ba"
      },
      "outputs": [],
      "source": [
        "assert x.shape == (5000, 34)\n",
        "assert y.shape == (5000,)"
      ]
    },
    {
      "cell_type": "code",
      "source": [
        "X =x"
      ],
      "metadata": {
        "id": "dQpjPMck8hfV"
      },
      "id": "dQpjPMck8hfV",
      "execution_count": 16,
      "outputs": []
    },
    {
      "cell_type": "markdown",
      "id": "8d487454",
      "metadata": {
        "id": "8d487454"
      },
      "source": [
        ":4. Apply [PCA (check documentation if unfamiliar)](https://scikit-learn.org/stable/modules/generated/sklearn.decomposition.PCA.html) to reduce the number of features down to **5**, save it to a numpy array named `X_reduced`. \n",
        "\n",
        "    Do you need to preprocess the data before performing PCA? Quick review [here: Importance of feature scaling](https://scikit-learn.org/stable/auto_examples/preprocessing/plot_scaling_importance.html).\n",
        "    \n",
        "    If time permits, read [Does mean centering or feature scaling affect a Principal Component Analysis?](https://sebastianraschka.com/faq/docs/pca-scaling.html) or [discussion 1](https://stats.stackexchange.com/questions/53/pca-on-correlation-or-covariance)."
      ]
    },
    {
      "cell_type": "markdown",
      "source": [
        "**Principle Cmponent Analysis:** Linear dimensionality reduction using Singular Value Decomposition of the data to project it to a lower dimensional space. The input data is centered but not scaled for each feature before applying the SVD."
      ],
      "metadata": {
        "id": "tP1WFZXT8uM6"
      },
      "id": "tP1WFZXT8uM6"
    },
    {
      "cell_type": "code",
      "execution_count": 17,
      "id": "26bf49d6",
      "metadata": {
        "id": "26bf49d6",
        "colab": {
          "base_uri": "https://localhost:8080/"
        },
        "outputId": "ccc49c54-8c9d-45dc-f58d-af57ad4fb1fe"
      },
      "outputs": [
        {
          "output_type": "execute_result",
          "data": {
            "text/plain": [
              "array([[ 0.56747589, -1.6843789 ,  1.08714615, -0.00374767,  0.81075284],\n",
              "       [ 0.4475609 ,  0.01335636, -0.57038836, -0.17766425,  0.68048142],\n",
              "       [-0.15842849, -1.14732741, -0.51483019, -0.40882342, -1.00326596],\n",
              "       ...,\n",
              "       [ 2.13087062, -2.35771615, -1.01124333, -1.07292653,  1.47283234],\n",
              "       [ 2.46149122, -1.94818369, -0.94531901,  0.06959299,  1.82751354],\n",
              "       [-2.42621434,  0.35326354,  0.01466567, -0.01179933,  0.71782239]])"
            ]
          },
          "metadata": {},
          "execution_count": 17
        }
      ],
      "source": [
        "scaler = StandardScaler()\n",
        "pca = PCA(n_components=5)\n",
        "scaler.fit(X)\n",
        "X_scaled = scaler.transform(X)\n",
        "pca.fit(X_scaled)\n",
        "X_reduced = pca.transform(X_scaled)\n",
        "X_reduced"
      ]
    },
    {
      "cell_type": "code",
      "execution_count": 18,
      "id": "f60ea4b8",
      "metadata": {
        "id": "f60ea4b8"
      },
      "outputs": [],
      "source": [
        "assert X_reduced.shape == (5000, 5)"
      ]
    },
    {
      "cell_type": "markdown",
      "id": "ec23808b",
      "metadata": {
        "id": "ec23808b"
      },
      "source": [
        "5. Print out the percentage of variance explained by each of the selected components."
      ]
    },
    {
      "cell_type": "code",
      "execution_count": 19,
      "id": "bd43be7c",
      "metadata": {
        "id": "bd43be7c",
        "outputId": "fbcd8c20-61b5-492e-9c95-d062d3f3c471",
        "colab": {
          "base_uri": "https://localhost:8080/"
        }
      },
      "outputs": [
        {
          "output_type": "stream",
          "name": "stdout",
          "text": [
            "[10.28192721  9.44568278  6.50982966  5.10698613  4.27829718] %\n"
          ]
        }
      ],
      "source": [
        "print(f'{pca.explained_variance_ratio_*100} %')\n"
      ]
    },
    {
      "cell_type": "markdown",
      "id": "fe1c7c62",
      "metadata": {
        "id": "fe1c7c62"
      },
      "source": [
        "6. Review code in functions `visualize_2pcs` and `visualize_3pcs` below and visualize first few principal components in 2D and 3D plots, respectively:"
      ]
    },
    {
      "cell_type": "code",
      "execution_count": 20,
      "id": "900548a2",
      "metadata": {
        "id": "900548a2"
      },
      "outputs": [],
      "source": [
        "import matplotlib.pyplot as plt\n",
        "\n",
        "def visualize_2pcs(pcs, y):\n",
        "    fig, ax = plt.subplots()\n",
        "    plot = plt.scatter(pcs[:,0], pcs[:,1], c=y) \n",
        "    ax.legend(\n",
        "        handles=plot.legend_elements()[0], \n",
        "        labels=['No', 'Yes'])"
      ]
    },
    {
      "cell_type": "code",
      "execution_count": 21,
      "id": "907db47f",
      "metadata": {
        "id": "907db47f"
      },
      "outputs": [],
      "source": [
        "def visualize_3pcs(pcs, y):\n",
        "    fig, ax = plt.subplots()\n",
        "    ax = fig.add_subplot(projection='3d')\n",
        "    plot = ax.scatter(pcs[:,0], pcs[:,1], pcs[:,2], c=y)\n",
        "    ax.legend(\n",
        "        handles=plot.legend_elements()[0], \n",
        "        labels=['No', 'Yes'])"
      ]
    },
    {
      "cell_type": "code",
      "execution_count": 22,
      "id": "01abccc3",
      "metadata": {
        "id": "01abccc3",
        "outputId": "7ea83d61-7acc-460b-e73b-baa4c82f8ba5",
        "colab": {
          "base_uri": "https://localhost:8080/",
          "height": 265
        }
      },
      "outputs": [
        {
          "output_type": "display_data",
          "data": {
            "text/plain": [
              "<Figure size 432x288 with 1 Axes>"
            ],
            "image/png": "[encoded data removed]"
          },
          "metadata": {
            "needs_background": "light"
          }
        }
      ],
      "source": [
        "visualize_2pcs(X_reduced,y)"
      ]
    },
    {
      "cell_type": "code",
      "source": [
        "visualize_3pcs(X_reduced,y)"
      ],
      "metadata": {
        "colab": {
          "base_uri": "https://localhost:8080/",
          "height": 269
        },
        "id": "b0cSxQIu-IR2",
        "outputId": "eac7f9d2-0f49-4475-ebee-d7af9481e758"
      },
      "id": "b0cSxQIu-IR2",
      "execution_count": 23,
      "outputs": [
        {
          "output_type": "display_data",
          "data": {
            "text/plain": [
              "<Figure size 432x288 with 2 Axes>"
            ],
            "image/png": "[encoded data removed]"
          },
          "metadata": {
            "needs_background": "light"
          }
        }
      ]
    },
    {
      "cell_type": "markdown",
      "id": "b9f1e012",
      "metadata": {
        "id": "b9f1e012"
      },
      "source": [
        "7. One way to assess the quality of the dimensionality reduction, when the groundtruth is available of course, is comparing the prediction performance using given features vs reduced (engineered) features.\n",
        "\n",
        "    Complete the wrapper function below that \n",
        "\n",
        "    - takes features, target, and a boolean parameter indicating whether to include standardization in the pipeline or not\n",
        "    - split the data into train (80%) and test (20%) datasets, set the random state for spliting at 0\n",
        "    - build a pipeline that \n",
        "\n",
        "        1) preprocessing data using standardization if the `standardize` is `True`; otherwise skip this step  \n",
        "\n",
        "        2) apply logistic regression ( are the labels balanced? )\n",
        "        \n",
        "    - fit the pipeline using training data\n",
        "    - print the classification report (use `sklearn.metrics.classification_report`) on test data"
      ]
    },
    {
      "cell_type": "code",
      "execution_count": 24,
      "id": "eec382d1",
      "metadata": {
        "id": "eec382d1"
      },
      "outputs": [],
      "source": [
        "# YOUR CODE HERE (imports!)\n",
        "\n",
        "def train(X, y, standardize = True) -> None:\n",
        "  X_train, X_test, y_train, y_test = train_test_split(X, y, test_size=0.2, random_state= 42)\n",
        "  pipeline = [StandardScaler(), LogisticRegression()]\n",
        "  pipeline = make_pipeline(*pipeline[0 if standardize else 1:])\n",
        "  pipeline.fit(X_train, y_train)\n",
        "  y_pred = pipeline.predict(X_test)\n",
        "  print(classification_report(y_test, y_pred))"
      ]
    },
    {
      "cell_type": "markdown",
      "source": [
        "**I need to look more into this code above.**   🤔"
      ],
      "metadata": {
        "id": "mjrXvyOaALVy"
      },
      "id": "mjrXvyOaALVy"
    },
    {
      "cell_type": "markdown",
      "id": "5b17ae17",
      "metadata": {
        "id": "5b17ae17"
      },
      "source": [
        "Now apply the pipeline on the all the features `X` and review the performance"
      ]
    },
    {
      "cell_type": "code",
      "execution_count": 25,
      "id": "2dfc3392",
      "metadata": {
        "id": "2dfc3392",
        "outputId": "d47d0699-4dc4-46f7-b2a3-904c13f98fc9",
        "colab": {
          "base_uri": "https://localhost:8080/"
        }
      },
      "outputs": [
        {
          "output_type": "stream",
          "name": "stdout",
          "text": [
            "              precision    recall  f1-score   support\n",
            "\n",
            "           0       0.66      0.93      0.78       659\n",
            "           1       0.41      0.09      0.15       341\n",
            "\n",
            "    accuracy                           0.65      1000\n",
            "   macro avg       0.54      0.51      0.46      1000\n",
            "weighted avg       0.58      0.65      0.56      1000\n",
            "\n"
          ]
        }
      ],
      "source": [
        "train(x,y)"
      ]
    },
    {
      "cell_type": "markdown",
      "id": "b18c79f6",
      "metadata": {
        "id": "b18c79f6"
      },
      "source": [
        "Similarly, apply the pipeline on the reduced / engineered features `X_reduced`. Should you include standardization in the pipeline?"
      ]
    },
    {
      "cell_type": "code",
      "execution_count": 26,
      "id": "7486aa3b",
      "metadata": {
        "id": "7486aa3b",
        "outputId": "1f258b5f-66f5-429c-b274-11ac8ad8e9ee",
        "colab": {
          "base_uri": "https://localhost:8080/"
        }
      },
      "outputs": [
        {
          "output_type": "stream",
          "name": "stdout",
          "text": [
            "              precision    recall  f1-score   support\n",
            "\n",
            "           0       0.65      0.97      0.78       659\n",
            "           1       0.12      0.01      0.02       341\n",
            "\n",
            "    accuracy                           0.64      1000\n",
            "   macro avg       0.39      0.49      0.40      1000\n",
            "weighted avg       0.47      0.64      0.52      1000\n",
            "\n"
          ]
        }
      ],
      "source": [
        "train(X_reduced, y, standardize=False)"
      ]
    },
    {
      "cell_type": "markdown",
      "id": "b6cf1219",
      "metadata": {
        "id": "b6cf1219"
      },
      "source": [
        "8. Are the results as expected? Discuss the pros and cons using reduced set of features in this application with your teammate. \n",
        "    **"
      ]
    },
    {
      "cell_type": "markdown",
      "source": [
        "**Answer:** The results seem good. PCA is said to reduce the number of features by constructing a new, smaller number variables which capture a signficant portion of the information found in the original features. That might be the reason for good results. \n",
        "\n",
        "As discussed, cons of using reduced set of features is increased risk of Overfitting."
      ],
      "metadata": {
        "id": "oJSmCwdoBVtj"
      },
      "id": "oJSmCwdoBVtj"
    },
    {
      "cell_type": "markdown",
      "id": "21cc9707",
      "metadata": {
        "id": "21cc9707"
      },
      "source": [
        "## Task 2. Customer Segmentation"
      ]
    },
    {
      "cell_type": "markdown",
      "id": "80a1a95d",
      "metadata": {
        "id": "80a1a95d"
      },
      "source": [
        "In this task, we apply k-means clustering on the reduced data, experimenting different vaules of `n_cluster`, summarize all this information in a single plot, the *Elbow* plot. In addition, leverage silhouette visualization to help decide the \"optimal\" number of clusters in our data and answer: \n",
        "\n",
        "1. Are there any patterns among customer purchasing behaviors?\n",
        "2. If so, what categories do they belong to? How do you characterize the clusters?\n",
        "3. If not, what followup steps and / or recommendations will you make as an MLE?"
      ]
    },
    {
      "cell_type": "markdown",
      "id": "1b6dc7fd",
      "metadata": {
        "id": "1b6dc7fd"
      },
      "source": [
        "1. Look up the [documentation](https://scikit-learn.org/stable/modules/clustering.html) and import the model class for k-means from `sklearn.cluster`"
      ]
    },
    {
      "cell_type": "code",
      "execution_count": 27,
      "id": "7fbbf216",
      "metadata": {
        "id": "7fbbf216"
      },
      "outputs": [],
      "source": [
        "from sklearn.cluster import KMeans"
      ]
    },
    {
      "cell_type": "markdown",
      "id": "9a4a915b",
      "metadata": {
        "id": "9a4a915b"
      },
      "source": [
        "2. Complete `visualize_elbow`; inspect the code and complete\n",
        "\n",
        "    - fit k-means on the given data `X` and `k`, setting `random_state` to be 10 for reproducibility\n",
        "    - append the sum of squared distances of samples to their closest cluster center for each $k$ to list `inertias`"
      ]
    },
    {
      "cell_type": "code",
      "execution_count": 28,
      "id": "d2338ea5",
      "metadata": {
        "id": "d2338ea5"
      },
      "outputs": [],
      "source": [
        "def visualize_elbow(X, ks):\n",
        "    fig, ax = plt.subplots()\n",
        "    inertias = []\n",
        "    for k in ks:\n",
        "        kmean = KMeans(n_clusters=k, random_state=10)\n",
        "        kmean.fit(X)\n",
        "        inertias.append(kmean.inertia_)\n",
        "    plt.plot(ks, inertias)\n",
        "    plt.xticks(ks)\n",
        "    plt.xlabel('Number of clusters')\n",
        "    plt.ylabel('Inertia')\n",
        "    plt.title('Elbow plot')\n"
      ]
    },
    {
      "cell_type": "markdown",
      "id": "62bc7db3",
      "metadata": {
        "id": "62bc7db3"
      },
      "source": [
        "3. Visualize the elbow plot for the number of clusters ranging between 2 and 9. Discuss with your teammate, what is the 'optimal' number of clusters?"
      ]
    },
    {
      "cell_type": "code",
      "execution_count": 29,
      "id": "9de40c6e",
      "metadata": {
        "id": "9de40c6e",
        "outputId": "780f04a0-ebbd-4637-a63f-534d8a654ee4",
        "colab": {
          "base_uri": "https://localhost:8080/",
          "height": 295
        }
      },
      "outputs": [
        {
          "output_type": "display_data",
          "data": {
            "text/plain": [
              "<Figure size 432x288 with 1 Axes>"
            ],
            "image/png": "[encoded data removed]"
          },
          "metadata": {
            "needs_background": "light"
          }
        }
      ],
      "source": [
        "visualize_elbow(X,range(2,9))"
      ]
    },
    {
      "cell_type": "code",
      "source": [
        "from yellowbrick.cluster import SilhouetteVisualizer\n",
        "from yellowbrick.datasets import load_nfl\n",
        "model = KMeans(5, random_state=42)"
      ],
      "metadata": {
        "id": "ozhPvXbWDuY_"
      },
      "id": "ozhPvXbWDuY_",
      "execution_count": 30,
      "outputs": []
    },
    {
      "cell_type": "code",
      "source": [
        "visualizer = SilhouetteVisualizer(model, colors=('yellowbrick'))\n",
        "visualizer.fit(X_reduced)\n",
        "visualizer.show"
      ],
      "metadata": {
        "colab": {
          "base_uri": "https://localhost:8080/",
          "height": 399
        },
        "id": "Gi0QgDEuD4PF",
        "outputId": "8612accb-b7d4-459c-bade-221dea66c9e0"
      },
      "id": "Gi0QgDEuD4PF",
      "execution_count": 31,
      "outputs": [
        {
          "output_type": "execute_result",
          "data": {
            "text/plain": [
              "<bound method Visualizer.show of SilhouetteVisualizer(ax=<matplotlib.axes._subplots.AxesSubplot object at 0x7facc4c7a2e0>,\n",
              "                     colors='yellowbrick',\n",
              "                     estimator=KMeans(n_clusters=5, random_state=42))>"
            ]
          },
          "metadata": {},
          "execution_count": 31
        },
        {
          "output_type": "display_data",
          "data": {
            "text/plain": [
              "<Figure size 576x396 with 1 Axes>"
            ],
            "image/png": "[encoded data removed]"
          },
          "metadata": {}
        }
      ]
    },
    {
      "cell_type": "markdown",
      "id": "50183626",
      "metadata": {
        "id": "50183626"
      },
      "source": [
        "4. What are the disadvantage to use the Elbow method? "
      ]
    },
    {
      "cell_type": "markdown",
      "id": "bd270b30",
      "metadata": {
        "id": "bd270b30"
      },
      "source": [
        "**Answer:** What I found on researching is the disadvantage of elbow and average silhouette methods is that, they measure a global clustering characteristic only. A more sophisticated method is to use the gap statistic which provides a statistical procedure to formalize the elbow/silhouette heuristic in order to estimate the optimal number of clusters"
      ]
    },
    {
      "cell_type": "markdown",
      "id": "df38e1e1",
      "metadata": {
        "id": "df38e1e1"
      },
      "source": [
        "5. Let's try a different approach: [silhouette score](https://towardsdatascience.com/clustering-metrics-better-than-the-elbow-method-6926e1f723a6).\n",
        "\n",
        "    A helper function `visualize_silhouette` is provided for you (inspect the code in `utils.py`) and figure out how to use it to visualize k-means for k ranges from 2 to 8 on the reduced data. "
      ]
    },
    {
      "cell_type": "markdown",
      "source": [
        "🤔**I NEED TO GO THROUGH THIS AGAIN.**"
      ],
      "metadata": {
        "id": "PF_gOHlVHEtE"
      },
      "id": "PF_gOHlVHEtE"
    },
    {
      "cell_type": "code",
      "execution_count": 32,
      "id": "35d5ac66",
      "metadata": {
        "id": "35d5ac66"
      },
      "outputs": [],
      "source": [
        "# from utils import visualize_silhouette"
      ]
    },
    {
      "cell_type": "code",
      "execution_count": 33,
      "id": "3047c431",
      "metadata": {
        "scrolled": false,
        "id": "3047c431",
        "outputId": "d1814372-2924-4501-c6fe-250f0e646821",
        "colab": {
          "base_uri": "https://localhost:8080/",
          "height": 399
        }
      },
      "outputs": [
        {
          "output_type": "execute_result",
          "data": {
            "text/plain": [
              "<bound method Visualizer.show of SilhouetteVisualizer(ax=<matplotlib.axes._subplots.AxesSubplot object at 0x7facc4be9910>,\n",
              "                     colors='yellowbrick',\n",
              "                     estimator=KMeans(n_clusters=7, random_state=42))>"
            ]
          },
          "metadata": {},
          "execution_count": 33
        },
        {
          "output_type": "display_data",
          "data": {
            "text/plain": [
              "<Figure size 576x396 with 1 Axes>"
            ],
            "image/png": "[encoded data removed]"
          },
          "metadata": {}
        }
      ],
      "source": [
        "for x in range(2,8):\n",
        "  model = KMeans(x, random_state=42)\n",
        "visualizer = SilhouetteVisualizer(model, colors=('yellowbrick'))\n",
        "visualizer.fit(X_reduced)\n",
        "visualizer.show"
      ]
    },
    {
      "cell_type": "markdown",
      "id": "6adf9e73",
      "metadata": {
        "id": "6adf9e73"
      },
      "source": [
        "6. Instantiate a k-means model using the number of cluster that you deem optimal, assign it to `km`, and fit on the reduced data. "
      ]
    },
    {
      "cell_type": "code",
      "execution_count": 34,
      "id": "b5692682",
      "metadata": {
        "id": "b5692682",
        "outputId": "e317cfed-f513-4085-f579-62cd13b13c48",
        "colab": {
          "base_uri": "https://localhost:8080/"
        }
      },
      "outputs": [
        {
          "output_type": "stream",
          "name": "stdout",
          "text": [
            "KMeans(n_clusters=5, random_state=10)\n"
          ]
        }
      ],
      "source": [
        "km = KMeans(n_clusters=5, random_state=10)\n",
        "km.fit(X_reduced)\n",
        "print(km)"
      ]
    },
    {
      "cell_type": "markdown",
      "id": "19b802fa",
      "metadata": {
        "id": "19b802fa"
      },
      "source": [
        "7. What is the size of each cluster? "
      ]
    },
    {
      "cell_type": "markdown",
      "source": [
        ".inertia ----> Sum of squared distances of samples to their closest cluster center, weighted by the sample weights if provided."
      ],
      "metadata": {
        "id": "dPmcxt0TIGsg"
      },
      "id": "dPmcxt0TIGsg"
    },
    {
      "cell_type": "code",
      "execution_count": 35,
      "id": "d41df1da",
      "metadata": {
        "id": "d41df1da",
        "colab": {
          "base_uri": "https://localhost:8080/"
        },
        "outputId": "b47f7718-a9d1-4f07-d487-86d4080156e0"
      },
      "outputs": [
        {
          "output_type": "execute_result",
          "data": {
            "text/plain": [
              "31648.15444632405"
            ]
          },
          "metadata": {},
          "execution_count": 35
        }
      ],
      "source": [
        "km.inertia_"
      ]
    },
    {
      "cell_type": "markdown",
      "id": "cfaf3260",
      "metadata": {
        "id": "cfaf3260"
      },
      "source": [
        "8. Create a new column called `cluster_pca` in `past`, with values as predicted cluster index predicted by `km`. "
      ]
    },
    {
      "cell_type": "code",
      "execution_count": 36,
      "id": "e55328f5",
      "metadata": {
        "id": "e55328f5",
        "colab": {
          "base_uri": "https://localhost:8080/"
        },
        "outputId": "31fa212c-3801-45eb-aa76-47b290e59f56"
      },
      "outputs": [
        {
          "output_type": "execute_result",
          "data": {
            "text/plain": [
              "1    3325\n",
              "3    1447\n",
              "2     142\n",
              "0      48\n",
              "4      38\n",
              "Name: cluster_pca, dtype: int64"
            ]
          },
          "metadata": {},
          "execution_count": 36
        }
      ],
      "source": [
        "df['cluster_pca'] = [min(range(5), key=lambda i, values=values: values[i]) for values in km.transform(X_reduced)]\n",
        "df['cluster_pca'].value_counts()\n"
      ]
    },
    {
      "cell_type": "code",
      "source": [
        "sns.barplot(data=df, x='cluster_pca', y='Purchased?')\n"
      ],
      "metadata": {
        "colab": {
          "base_uri": "https://localhost:8080/",
          "height": 378
        },
        "id": "M7HREZsanYKE",
        "outputId": "02e6d2d5-4a5f-4d4e-b3a2-9f0b87ec8836"
      },
      "id": "M7HREZsanYKE",
      "execution_count": 37,
      "outputs": [
        {
          "output_type": "execute_result",
          "data": {
            "text/plain": [
              "<matplotlib.axes._subplots.AxesSubplot at 0x7facc2b5d1c0>"
            ]
          },
          "metadata": {},
          "execution_count": 37
        },
        {
          "output_type": "display_data",
          "data": {
            "text/plain": [
              "<Figure size 576x396 with 1 Axes>"
            ],
            "image/png": "[encoded data removed]"
          },
          "metadata": {}
        }
      ]
    },
    {
      "cell_type": "markdown",
      "id": "62ea839f",
      "metadata": {
        "id": "62ea839f"
      },
      "source": [
        "9. Open ended: manipulate `past` and see if you can characterize each cluster (e.g., calculate statistics of / visualize features for each cluster), how will you intepret the results? \n",
        "\n",
        "    **Note**. This is probably the most important part as far as the business stakeholders are concerned: \"*What can I do with your results?*\" The math, modeling part is relatively easy, compared to actionable recommendations you make for business. Thus, before jumping on a different algorithm for the given task, do you best to 1) understand the data in depth 2) keep buisiness use cases in mind throughout all steps. "
      ]
    },
    {
      "cell_type": "markdown",
      "source": [
        "**Answer:** Looks like all clusters have negative purchased likelihood. I think ideally we create clusters, some of which have very high likelihood of purchase, so we know how to upsell.\n",
        "\n"
      ],
      "metadata": {
        "id": "ENDWK0ooImGC"
      },
      "id": "ENDWK0ooImGC"
    },
    {
      "cell_type": "markdown",
      "id": "045163e7",
      "metadata": {
        "id": "045163e7"
      },
      "source": [
        "10. What are the assumptions for k-means? Judging by the cluster sizes, is k-means a good approach? \n",
        "\n",
        "    Scanning the list of [clustering algorithms](https://scikit-learn.org/stable/modules/clustering.html) implemented in scikit-learn, try at least one other algorithm, examine its assumptions, and intepret results."
      ]
    },
    {
      "cell_type": "markdown",
      "id": "33bd3042",
      "metadata": {
        "id": "33bd3042"
      },
      "source": [
        " **Answer :**  k-means assume the variance of the distribution of each attribute (variable) is spherical; all variables have the same variance; the prior probability for all k clusters are the same, i.e. each cluster has roughly equal number of observations; If any one of these 3 assumptions is violated, then k-means will fail.\n",
        "\n",
        " My cluster size is 5. We ended up with data that represented the distribution. Not many clusters have a higher percentage of purchased than the base data."
      ]
    },
    {
      "cell_type": "code",
      "execution_count": 38,
      "id": "90bf70c7",
      "metadata": {
        "id": "90bf70c7"
      },
      "outputs": [],
      "source": [
        "from sklearn.cluster import AffinityPropagation\n",
        "ap = AffinityPropagation(random_state=5).fit(X_reduced)\n",
        "\n",
        "#In statistics and data mining, affinity propagation (AP) is a \n",
        "#clustering algorithm based on the concept of \"message passing\" between \n",
        "#data points.[1] Unlike clustering algorithms such as k-means or k-medoids,\n",
        "# affinity propagation does not require the number of clusters to be determined \n",
        "#or estimated before running the algorithm. Similar to k-medoids, affinity propagation finds\n",
        "# \"exemplars,\" members of the input set that are representative of clusters.[1]"
      ]
    },
    {
      "cell_type": "code",
      "source": [
        "df['cluster_ap_pca'] = ap.predict(X_reduced)\n",
        "df.groupby('Purchased?')['cluster_ap_pca'].value_counts()"
      ],
      "metadata": {
        "colab": {
          "base_uri": "https://localhost:8080/"
        },
        "id": "kDULuOV7oEGt",
        "outputId": "ce7739f6-1cbf-44be-b1a0-6c9093a28c1d"
      },
      "id": "kDULuOV7oEGt",
      "execution_count": 39,
      "outputs": [
        {
          "output_type": "execute_result",
          "data": {
            "text/plain": [
              "Purchased?  cluster_ap_pca\n",
              "0           72                82\n",
              "            175               80\n",
              "            97                66\n",
              "            90                65\n",
              "            117               65\n",
              "                              ..\n",
              "1           152                1\n",
              "            155                1\n",
              "            175                1\n",
              "            182                1\n",
              "            191                1\n",
              "Name: cluster_ap_pca, Length: 320, dtype: int64"
            ]
          },
          "metadata": {},
          "execution_count": 39
        }
      ]
    },
    {
      "cell_type": "code",
      "source": [
        "from sklearn.metrics.cluster import v_measure_score\n",
        "from sklearn.metrics.cluster import adjusted_rand_score\n",
        "from sklearn.metrics import silhouette_score\n"
      ],
      "metadata": {
        "id": "vHFTGPXWo5Wc"
      },
      "id": "vHFTGPXWo5Wc",
      "execution_count": 40,
      "outputs": []
    },
    {
      "cell_type": "code",
      "source": [
        "af = AffinityPropagation(preference=-50, random_state=0).fit(X_reduced)\n",
        "cluster_centers_indices = af.cluster_centers_indices_\n",
        "labels = af.labels_\n",
        "\n",
        "n_clusters_ = len(cluster_centers_indices)\n",
        "\n",
        "print(\"Estimated number of clusters: %d\" % n_clusters_)\n",
        "\n",
        "print(\n",
        "    \"Silhouette Coefficient: %0.3f\"\n",
        "    %silhouette_score(X, labels, metric=\"sqeuclidean\")\n",
        ")"
      ],
      "metadata": {
        "colab": {
          "base_uri": "https://localhost:8080/"
        },
        "id": "tho0LcnnosLU",
        "outputId": "a1aff8c1-a051-4d1d-e62c-93b38a5f7a38"
      },
      "id": "tho0LcnnosLU",
      "execution_count": 41,
      "outputs": [
        {
          "output_type": "stream",
          "name": "stdout",
          "text": [
            "Estimated number of clusters: 79\n",
            "Silhouette Coefficient: -0.849\n"
          ]
        }
      ]
    },
    {
      "cell_type": "code",
      "source": [
        "\n",
        "plt.close(\"all\")\n",
        "plt.figure(1)\n",
        "plt.clf()\n",
        "\n",
        "colors = plt.cycler(\"color\", plt.cm.viridis(np.linspace(0, 1, 4)))\n",
        "\n",
        "for k, col in zip(range(n_clusters_), colors):\n",
        "    class_members = labels == k\n",
        "    cluster_center = X_reduced[cluster_centers_indices[k]]\n",
        "    plt.scatter(\n",
        "        X_reduced[class_members, 0], X_reduced[class_members, 1], color=col[\"color\"], marker=\".\"\n",
        "    )\n",
        "    plt.scatter(\n",
        "        cluster_center[0], cluster_center[1], s=14, color=col[\"color\"], marker=\"o\"\n",
        "    )\n",
        "    for x in X_reduced[class_members]:\n",
        "        plt.plot(\n",
        "            [cluster_center[0], x[0]], [cluster_center[1], x[1]], color=col[\"color\"]\n",
        "        )\n",
        "\n",
        "plt.title(\"Estimated number of clusters: %d\" % n_clusters_)\n",
        "plt.show()"
      ],
      "metadata": {
        "colab": {
          "base_uri": "https://localhost:8080/",
          "height": 362
        },
        "id": "hT6IMo6Sodne",
        "outputId": "84bb360e-bd8b-451d-f82d-bb51294d8e1c"
      },
      "id": "hT6IMo6Sodne",
      "execution_count": 42,
      "outputs": [
        {
          "output_type": "display_data",
          "data": {
            "text/plain": [
              "<Figure size 576x396 with 1 Axes>"
            ],
            "image/png": "[encoded data removed]"
          },
          "metadata": {}
        }
      ]
    },
    {
      "cell_type": "markdown",
      "id": "f55c9ebd",
      "metadata": {
        "id": "f55c9ebd"
      },
      "source": [
        "11. Jot down recommendations or followup steps, detailing the reasons."
      ]
    },
    {
      "cell_type": "markdown",
      "id": "01a41aa0",
      "metadata": {
        "id": "01a41aa0"
      },
      "source": [
        "**Answer:** Here I am using Affinity Propagation\n",
        "> An algorithm that identifies exemplars among data points and forms clusters of data points around these exemplars. It operates by simultaneously considering all data point as potential exemplars and exchanging messages between data points until a good set of exemplars and clusters emerges.\n",
        "\n",
        "\n",
        "The detailed steps are listed below:\n",
        "1.   After importing required libraries, X_reduced is fed into the algorithm for fitting, and affinity propagation is computed. After that it is plotted and number of clusters are shown.\n",
        "\n",
        "\n",
        "\n",
        "\n"
      ]
    },
    {
      "cell_type": "markdown",
      "id": "79f44672",
      "metadata": {
        "id": "79f44672"
      },
      "source": [
        "## Task 3. To launch or not to launch?"
      ]
    },
    {
      "cell_type": "markdown",
      "id": "494e9fa9",
      "metadata": {
        "id": "494e9fa9"
      },
      "source": [
        "In this task, we will work on a hypothetical application: cosmetics purchase prediction for new products with limited features. The intention here is to maximize **recall** so that no popular cosmetic is understocked. Overstocking is less of a concern since it will not cause disengagement in customers.\n",
        "\n",
        "The purchase status for each \"new\" product is known, but we only use the labels for benchmarking purpose. Instead, we use label spreading method to leverage a small amount of labeled data in combination with a larger amount of unlabeled data. "
      ]
    },
    {
      "cell_type": "markdown",
      "id": "e37a4854",
      "metadata": {
        "id": "e37a4854"
      },
      "source": [
        "1. Read in the data in `new.csv.gz` and save it as a `pd.DataFrame` named `new`. This is the test dataset.\n",
        "\n",
        "    Look at the shape of `new` and inspect the frist few rows."
      ]
    },
    {
      "cell_type": "code",
      "execution_count": 43,
      "id": "57ed0232",
      "metadata": {
        "id": "57ed0232"
      },
      "outputs": [],
      "source": [
        "new = pd.read_csv('/content/drive/MyDrive/MLE/MLE Week 8/data/new.csv.gz')\n"
      ]
    },
    {
      "cell_type": "code",
      "execution_count": 44,
      "id": "8da7c797",
      "metadata": {
        "id": "8da7c797"
      },
      "outputs": [],
      "source": [
        "assert new.shape == (30091, 5)"
      ]
    },
    {
      "cell_type": "code",
      "execution_count": 45,
      "id": "d53a5be6",
      "metadata": {
        "id": "d53a5be6",
        "outputId": "4ebe05c9-6b0e-402f-a752-5c626a5d5309",
        "colab": {
          "base_uri": "https://localhost:8080/",
          "height": 206
        }
      },
      "outputs": [
        {
          "output_type": "execute_result",
          "data": {
            "text/plain": [
              "   product_id   maxPrice   minPrice  Purchased?  Category\n",
              "0     5866502   7.616667   7.616667           0       1.0\n",
              "1     5870408   6.270000   6.270000           0       3.0\n",
              "2     5900580  10.008000  10.008000           0       1.0\n",
              "3     5918778   5.980000   5.980000           0       2.5\n",
              "4     5848772  26.830000  26.830000           0       1.0"
            ],
            "text/html": [
              "\n",
              "  <div id=\"df-2da28408-070b-4533-8a3c-c1dd408d97ea\">\n",
              "    <div class=\"colab-df-container\">\n",
              "      <div>\n",
              "<style scoped>\n",
              "    .dataframe tbody tr th:only-of-type {\n",
              "        vertical-align: middle;\n",
              "    }\n",
              "\n",
              "    .dataframe tbody tr th {\n",
              "        vertical-align: top;\n",
              "    }\n",
              "\n",
              "    .dataframe thead th {\n",
              "        text-align: right;\n",
              "    }\n",
              "</style>\n",
              "<table border=\"1\" class=\"dataframe\">\n",
              "  <thead>\n",
              "    <tr style=\"text-align: right;\">\n",
              "      <th></th>\n",
              "      <th>product_id</th>\n",
              "      <th>maxPrice</th>\n",
              "      <th>minPrice</th>\n",
              "      <th>Purchased?</th>\n",
              "      <th>Category</th>\n",
              "    </tr>\n",
              "  </thead>\n",
              "  <tbody>\n",
              "    <tr>\n",
              "      <th>0</th>\n",
              "      <td>5866502</td>\n",
              "      <td>7.616667</td>\n",
              "      <td>7.616667</td>\n",
              "      <td>0</td>\n",
              "      <td>1.0</td>\n",
              "    </tr>\n",
              "    <tr>\n",
              "      <th>1</th>\n",
              "      <td>5870408</td>\n",
              "      <td>6.270000</td>\n",
              "      <td>6.270000</td>\n",
              "      <td>0</td>\n",
              "      <td>3.0</td>\n",
              "    </tr>\n",
              "    <tr>\n",
              "      <th>2</th>\n",
              "      <td>5900580</td>\n",
              "      <td>10.008000</td>\n",
              "      <td>10.008000</td>\n",
              "      <td>0</td>\n",
              "      <td>1.0</td>\n",
              "    </tr>\n",
              "    <tr>\n",
              "      <th>3</th>\n",
              "      <td>5918778</td>\n",
              "      <td>5.980000</td>\n",
              "      <td>5.980000</td>\n",
              "      <td>0</td>\n",
              "      <td>2.5</td>\n",
              "    </tr>\n",
              "    <tr>\n",
              "      <th>4</th>\n",
              "      <td>5848772</td>\n",
              "      <td>26.830000</td>\n",
              "      <td>26.830000</td>\n",
              "      <td>0</td>\n",
              "      <td>1.0</td>\n",
              "    </tr>\n",
              "  </tbody>\n",
              "</table>\n",
              "</div>\n",
              "      <button class=\"colab-df-convert\" onclick=\"convertToInteractive('df-2da28408-070b-4533-8a3c-c1dd408d97ea')\"\n",
              "              title=\"Convert this dataframe to an interactive table.\"\n",
              "              style=\"display:none;\">\n",
              "        \n",
              "  <svg xmlns=\"http://www.w3.org/2000/svg\" height=\"24px\"viewBox=\"0 0 24 24\"\n",
              "       width=\"24px\">\n",
              "    <path d=\"M0 0h24v24H0V0z\" fill=\"none\"/>\n",
              "    <path d=\"M18.56 5.44l.94 2.06.94-2.06 2.06-.94-2.06-.94-.94-2.06-.94 2.06-2.06.94zm-11 1L8.5 8.5l.94-2.06 2.06-.94-2.06-.94L8.5 2.5l-.94 2.06-2.06.94zm10 10l.94 2.06.94-2.06 2.06-.94-2.06-.94-.94-2.06-.94 2.06-2.06.94z\"/><path d=\"M17.41 7.96l-1.37-1.37c-.4-.4-.92-.59-1.43-.59-.52 0-1.04.2-1.43.59L10.3 9.45l-7.72 7.72c-.78.78-.78 2.05 0 2.83L4 21.41c.39.39.9.59 1.41.59.51 0 1.02-.2 1.41-.59l7.78-7.78 2.81-2.81c.8-.78.8-2.07 0-2.86zM5.41 20L4 18.59l7.72-7.72 1.47 1.35L5.41 20z\"/>\n",
              "  </svg>\n",
              "      </button>\n",
              "      \n",
              "  <style>\n",
              "    .colab-df-container {\n",
              "      display:flex;\n",
              "      flex-wrap:wrap;\n",
              "      gap: 12px;\n",
              "    }\n",
              "\n",
              "    .colab-df-convert {\n",
              "      background-color: #E8F0FE;\n",
              "      border: none;\n",
              "      border-radius: 50%;\n",
              "      cursor: pointer;\n",
              "      display: none;\n",
              "      fill: #1967D2;\n",
              "      height: 32px;\n",
              "      padding: 0 0 0 0;\n",
              "      width: 32px;\n",
              "    }\n",
              "\n",
              "    .colab-df-convert:hover {\n",
              "      background-color: #E2EBFA;\n",
              "      box-shadow: 0px 1px 2px rgba(60, 64, 67, 0.3), 0px 1px 3px 1px rgba(60, 64, 67, 0.15);\n",
              "      fill: #174EA6;\n",
              "    }\n",
              "\n",
              "    [theme=dark] .colab-df-convert {\n",
              "      background-color: #3B4455;\n",
              "      fill: #D2E3FC;\n",
              "    }\n",
              "\n",
              "    [theme=dark] .colab-df-convert:hover {\n",
              "      background-color: #434B5C;\n",
              "      box-shadow: 0px 1px 3px 1px rgba(0, 0, 0, 0.15);\n",
              "      filter: drop-shadow(0px 1px 2px rgba(0, 0, 0, 0.3));\n",
              "      fill: #FFFFFF;\n",
              "    }\n",
              "  </style>\n",
              "\n",
              "      <script>\n",
              "        const buttonEl =\n",
              "          document.querySelector('#df-2da28408-070b-4533-8a3c-c1dd408d97ea button.colab-df-convert');\n",
              "        buttonEl.style.display =\n",
              "          google.colab.kernel.accessAllowed ? 'block' : 'none';\n",
              "\n",
              "        async function convertToInteractive(key) {\n",
              "          const element = document.querySelector('#df-2da28408-070b-4533-8a3c-c1dd408d97ea');\n",
              "          const dataTable =\n",
              "            await google.colab.kernel.invokeFunction('convertToInteractive',\n",
              "                                                     [key], {});\n",
              "          if (!dataTable) return;\n",
              "\n",
              "          const docLinkHtml = 'Like what you see? Visit the ' +\n",
              "            '<a target=\"_blank\" href=https://colab.research.google.com/notebooks/data_table.ipynb>data table notebook</a>'\n",
              "            + ' to learn more about interactive tables.';\n",
              "          element.innerHTML = '';\n",
              "          dataTable['output_type'] = 'display_data';\n",
              "          await google.colab.output.renderOutput(dataTable, element);\n",
              "          const docLink = document.createElement('div');\n",
              "          docLink.innerHTML = docLinkHtml;\n",
              "          element.appendChild(docLink);\n",
              "        }\n",
              "      </script>\n",
              "    </div>\n",
              "  </div>\n",
              "  "
            ]
          },
          "metadata": {},
          "execution_count": 45
        }
      ],
      "source": [
        "new.head()"
      ]
    },
    {
      "cell_type": "markdown",
      "id": "c7637957",
      "metadata": {
        "id": "c7637957"
      },
      "source": [
        "2. How does the number of data points in the training set (`past`) compare to the number of datapoints in the test set (`new`)? \n",
        "\n",
        "    And how does the feature set in the training set compare to the feature set in the test set?"
      ]
    },
    {
      "cell_type": "markdown",
      "id": "1ee95e44",
      "metadata": {
        "id": "1ee95e44"
      },
      "source": [
        " **Answer :**The shape of the past.csv was (5000,37) but the shape of the new.csv was (30091,5) . We see the new dataset has more rows but only 5 features."
      ]
    },
    {
      "cell_type": "markdown",
      "id": "223870d9",
      "metadata": {
        "id": "223870d9"
      },
      "source": [
        "    *The number of datapoints in the training set is relatively small while the test set is quite large. The training set has more features than in the test set.*"
      ]
    },
    {
      "cell_type": "markdown",
      "id": "6b229240",
      "metadata": {
        "id": "6b229240"
      },
      "source": [
        "3. Are there any product ids in both the training and test datasets? Hint: use `np.intersect1d` or set operations."
      ]
    },
    {
      "cell_type": "code",
      "execution_count": 46,
      "id": "bec1dfec",
      "metadata": {
        "id": "bec1dfec",
        "outputId": "f040556a-68fd-4b73-853e-e6a45047ba25",
        "colab": {
          "base_uri": "https://localhost:8080/"
        }
      },
      "outputs": [
        {
          "output_type": "execute_result",
          "data": {
            "text/plain": [
              "0"
            ]
          },
          "metadata": {},
          "execution_count": 46
        }
      ],
      "source": [
        "# np.intersect1d(set(df['product_id'].unique()), set(new['product_id']))\n",
        "len(set(df['product_id'].unique()) & set(new['product_id']))\n"
      ]
    },
    {
      "cell_type": "markdown",
      "id": "06769b43",
      "metadata": {
        "id": "06769b43"
      },
      "source": [
        "4. What percentage of data points resulted in a purchase in the test set?\n",
        "\n",
        "    In reality, we won't be able to calculate information that is not available to you. Here, we simply demonstrated that the distributions in target between `past` and `new` are similar. "
      ]
    },
    {
      "cell_type": "code",
      "execution_count": 47,
      "id": "39aa4615",
      "metadata": {
        "scrolled": true,
        "id": "39aa4615",
        "colab": {
          "base_uri": "https://localhost:8080/"
        },
        "outputId": "20e58cbd-67ce-458c-cd9c-2efc5b82e4c2"
      },
      "outputs": [
        {
          "output_type": "execute_result",
          "data": {
            "text/plain": [
              "0.3442557575354757"
            ]
          },
          "metadata": {},
          "execution_count": 47
        }
      ],
      "source": [
        "new['Purchased?'].mean()\n",
        " # ~.344"
      ]
    },
    {
      "cell_type": "markdown",
      "id": "34ae7223",
      "metadata": {
        "id": "34ae7223"
      },
      "source": [
        "5. Create `ndarray`s: `X_train`, `y_train`, `X_test`, and `y_test` according to the following guidelines.\n",
        "\n",
        "    - The `Purchased?` column is the target.\n",
        "    - `X_train` and `X_test` should contain the same features\n",
        "    - `product_id` should not be a feature.\n",
        "\n",
        "    Double check that the shapes of the four arrays are what you expect."
      ]
    },
    {
      "cell_type": "code",
      "execution_count": 48,
      "id": "5badbca1",
      "metadata": {
        "id": "5badbca1"
      },
      "outputs": [],
      "source": [
        "X_train, X_test, y_train, y_test = train_test_split(new.drop(columns=['Purchased?', 'product_id']), new['Purchased?'], test_size=0.2)\n",
        "X_train, X_test, y_train, y_test = X_train.to_numpy(), X_test.to_numpy(), y_train.to_numpy(), y_test.to_numpy()\n"
      ]
    },
    {
      "cell_type": "code",
      "execution_count": 49,
      "id": "d8dfb6ab",
      "metadata": {
        "id": "d8dfb6ab"
      },
      "outputs": [],
      "source": [
        "assert X_train.shape[0] == y_train.shape[0] # 5000\n",
        "assert X_train.shape[1] == X_test.shape[1]  # 3\n",
        "\n",
        "assert type(X_train) == np.ndarray # make sure you import numpy as np at this point\n",
        "assert type(X_train).__module__ == type(y_train).__module__ == np.__name__  # alternative way"
      ]
    },
    {
      "cell_type": "markdown",
      "id": "25dd22e5",
      "metadata": {
        "id": "25dd22e5"
      },
      "source": [
        "6. Let's fit a simple logistic regression on the training set (`X_train`, `y_train`) and report performance on the test set (`X_test`, `y_test`)."
      ]
    },
    {
      "cell_type": "code",
      "execution_count": 50,
      "id": "33eea84d",
      "metadata": {
        "id": "33eea84d",
        "outputId": "ca43bc53-626d-4d0a-db13-a9e42e526243",
        "colab": {
          "base_uri": "https://localhost:8080/"
        }
      },
      "outputs": [
        {
          "output_type": "stream",
          "name": "stdout",
          "text": [
            "              precision    recall  f1-score   support\n",
            "\n",
            "           0       0.65      0.96      0.78      3910\n",
            "           1       0.43      0.06      0.10      2109\n",
            "\n",
            "    accuracy                           0.64      6019\n",
            "   macro avg       0.54      0.51      0.44      6019\n",
            "weighted avg       0.58      0.64      0.54      6019\n",
            "\n"
          ]
        }
      ],
      "source": [
        "pipeline = [LogisticRegression()]\n",
        "pipeline = make_pipeline(*pipeline)\n",
        "pipeline.fit(X_train, y_train)\n",
        "y_pred = pipeline.predict(X_test)\n",
        "print(classification_report(y_test, y_pred))\n"
      ]
    },
    {
      "cell_type": "markdown",
      "id": "f8a805e6",
      "metadata": {
        "id": "f8a805e6"
      },
      "source": [
        "7. Re-assemble data for semi-supervised learning. \n",
        "    - Use the features from the test set along with the features from the training set. \n",
        "    - Only use the labels from the training set but none from the test set.  \n",
        "    \n",
        "    Since we're using a large number of sampled features, but only a small number of these samples have labels, this is **semi-supervised learning**."
      ]
    },
    {
      "cell_type": "markdown",
      "id": "a2aa8a29",
      "metadata": {
        "id": "a2aa8a29"
      },
      "source": [
        "Create a matrix `X` that has the rows from `X_train` concatenated with the rows from `X_test`. Check the shape of the matrix."
      ]
    },
    {
      "cell_type": "code",
      "execution_count": 51,
      "id": "59d3585a",
      "metadata": {
        "id": "59d3585a"
      },
      "outputs": [],
      "source": [
        "X_test = np.concatenate((X_train, X_test), axis=0)\n",
        "X_train = df[[c for c in new.columns if c not in {'Purchased?', 'product_id'}]].to_numpy()"
      ]
    },
    {
      "cell_type": "code",
      "execution_count": 52,
      "id": "c67d4d7b",
      "metadata": {
        "id": "c67d4d7b"
      },
      "outputs": [],
      "source": [
        "X = np.concatenate((X_train, X_test), axis=0)\n",
        "\n",
        "assert X.shape == (35091, 3)"
      ]
    },
    {
      "cell_type": "markdown",
      "id": "b1dabc7c",
      "metadata": {
        "id": "b1dabc7c"
      },
      "source": [
        "Create the target array `y` by concatenating `y_train` with a vector of -1's, effectively creating a dummy label for the `X_test` rows in `X`. Check the shape of the array. It should have as many values as `X` has rows."
      ]
    },
    {
      "cell_type": "code",
      "execution_count": 53,
      "id": "5eec0b7f",
      "metadata": {
        "id": "5eec0b7f",
        "colab": {
          "base_uri": "https://localhost:8080/"
        },
        "outputId": "d231b755-6690-46ab-e3c7-6e747b5d1633"
      },
      "outputs": [
        {
          "output_type": "execute_result",
          "data": {
            "text/plain": [
              "30091"
            ]
          },
          "metadata": {},
          "execution_count": 53
        }
      ],
      "source": [
        "y = np.concatenate((y_train, y_test))\n",
        "len(y)"
      ]
    },
    {
      "cell_type": "code",
      "execution_count": 54,
      "id": "17318009",
      "metadata": {
        "id": "17318009"
      },
      "outputs": [],
      "source": [
        "y = np.concatenate((y, pd.Series([-1] * (len(X) - len(y))).to_numpy()))\n",
        "\n",
        "assert X.shape[0] == y.shape[0]"
      ]
    },
    {
      "cell_type": "markdown",
      "id": "ee27528c",
      "metadata": {
        "id": "ee27528c"
      },
      "source": [
        "8. Semi-supervised learning. \n",
        "\n",
        "    Scikit-learn provides two label propagation models: [`LabelPropagation`](https://scikit-learn.org/stable/modules/generated/sklearn.semi_supervised.LabelPropagation.html) and [`LabelSpreading`](https://scikit-learn.org/stable/modules/generated/sklearn.semi_supervised.LabelSpreading.html). Both work by constructing a similarity graph over all items in the input dataset. `LabelSpreading` is similar to the basic Label Propagation algorithm, but it uses an affinity matrix based on the normalized graph Laplacian and soft clamping across the labels; thus more robust to noise. We will be using scikit-learn's `LabelSpreading` model with `kNN`.\n",
        "    \n",
        "    Train a `LabelSpreading` model. Set `kernel` to `knn` and `alpha` to 0.01."
      ]
    },
    {
      "cell_type": "code",
      "execution_count": 55,
      "id": "9b4ee882",
      "metadata": {
        "id": "9b4ee882",
        "outputId": "d7103b72-0f3b-4630-c924-d452a08ed244",
        "colab": {
          "base_uri": "https://localhost:8080/"
        }
      },
      "outputs": [
        {
          "output_type": "execute_result",
          "data": {
            "text/plain": [
              "LabelSpreading(alpha=0.01, kernel='knn')"
            ]
          },
          "metadata": {},
          "execution_count": 55
        }
      ],
      "source": [
        "from sklearn.semi_supervised import LabelSpreading\n",
        "model = LabelSpreading(kernel='knn', alpha=0.01)\n",
        "model.fit(X, y)\n"
      ]
    },
    {
      "cell_type": "markdown",
      "id": "1095f805",
      "metadata": {
        "id": "1095f805"
      },
      "source": [
        "9. Extract the predictions for the test data. \n",
        "\n",
        "    You can get the predictions from the `transduction_` attribute. Note that there is a value for every row in `X`, so select just the values that correspond to `X_test`."
      ]
    },
    {
      "cell_type": "code",
      "execution_count": 56,
      "id": "ebc64f3a",
      "metadata": {
        "id": "ebc64f3a"
      },
      "outputs": [],
      "source": [
        "semi_sup_preds = model.transduction_[len(X_train):]"
      ]
    },
    {
      "cell_type": "code",
      "execution_count": 57,
      "id": "0c71554f",
      "metadata": {
        "id": "0c71554f"
      },
      "outputs": [],
      "source": [
        "assert semi_sup_preds.shape[0] == X_test.shape[0]"
      ]
    },
    {
      "cell_type": "markdown",
      "id": "e31745e2",
      "metadata": {
        "id": "e31745e2"
      },
      "source": [
        "10. Print the classification report"
      ]
    },
    {
      "cell_type": "code",
      "execution_count": 58,
      "id": "79e8fb50",
      "metadata": {
        "id": "79e8fb50",
        "outputId": "97783a73-648d-4d2b-f05d-7df7da591b8b",
        "colab": {
          "base_uri": "https://localhost:8080/"
        }
      },
      "outputs": [
        {
          "output_type": "stream",
          "name": "stdout",
          "text": [
            "              precision    recall  f1-score   support\n",
            "\n",
            "          -1       0.00      0.00      0.00      5000\n",
            "           0       0.80      1.00      0.89     16400\n",
            "           1       0.90      1.00      0.95      8691\n",
            "\n",
            "    accuracy                           0.83     30091\n",
            "   macro avg       0.57      0.67      0.61     30091\n",
            "weighted avg       0.70      0.83      0.76     30091\n",
            "\n"
          ]
        },
        {
          "output_type": "stream",
          "name": "stderr",
          "text": [
            "/usr/local/lib/python3.8/dist-packages/sklearn/metrics/_classification.py:1318: UndefinedMetricWarning: Precision and F-score are ill-defined and being set to 0.0 in labels with no predicted samples. Use `zero_division` parameter to control this behavior.\n",
            "  _warn_prf(average, modifier, msg_start, len(result))\n",
            "/usr/local/lib/python3.8/dist-packages/sklearn/metrics/_classification.py:1318: UndefinedMetricWarning: Precision and F-score are ill-defined and being set to 0.0 in labels with no predicted samples. Use `zero_division` parameter to control this behavior.\n",
            "  _warn_prf(average, modifier, msg_start, len(result))\n",
            "/usr/local/lib/python3.8/dist-packages/sklearn/metrics/_classification.py:1318: UndefinedMetricWarning: Precision and F-score are ill-defined and being set to 0.0 in labels with no predicted samples. Use `zero_division` parameter to control this behavior.\n",
            "  _warn_prf(average, modifier, msg_start, len(result))\n"
          ]
        }
      ],
      "source": [
        "print(classification_report(y[len(X_train):], semi_sup_preds)) # make sure you properly import classification_report\n"
      ]
    },
    {
      "cell_type": "code",
      "source": [
        "print(classification_report(y_test, y_pred))\n"
      ],
      "metadata": {
        "colab": {
          "base_uri": "https://localhost:8080/"
        },
        "id": "JaRrhD7ay7B1",
        "outputId": "0dcc8773-4319-420e-9c41-efd905bb2ab3"
      },
      "id": "JaRrhD7ay7B1",
      "execution_count": 59,
      "outputs": [
        {
          "output_type": "stream",
          "name": "stdout",
          "text": [
            "              precision    recall  f1-score   support\n",
            "\n",
            "           0       0.65      0.96      0.78      3910\n",
            "           1       0.43      0.06      0.10      2109\n",
            "\n",
            "    accuracy                           0.64      6019\n",
            "   macro avg       0.54      0.51      0.44      6019\n",
            "weighted avg       0.58      0.64      0.54      6019\n",
            "\n"
          ]
        }
      ]
    },
    {
      "cell_type": "markdown",
      "id": "f87a48ab",
      "metadata": {
        "id": "f87a48ab"
      },
      "source": [
        "Let's bring the performance from the supervised learning model down to see the comparison; discuss the areas of improvement and reasons for improvement."
      ]
    },
    {
      "cell_type": "markdown",
      "id": "8f1ee798",
      "metadata": {
        "id": "8f1ee798"
      },
      "source": [
        "**Answer:**\n",
        "The results looks fine. This maybe because of having more data and less or most important features. We can improve the algorithm by preprocessing data in better ways. Because clustering with lgorithms like knn k-means can be improved so much with better data preprocessing."
      ]
    },
    {
      "cell_type": "markdown",
      "id": "4fbc9772",
      "metadata": {
        "id": "4fbc9772"
      },
      "source": [
        "11. Read [Small Data Can Play a Big Role in AI](https://hbr.org/2020/02/small-data-can-play-a-big-role-in-ai) and discuss with your teammate about AI tools for training AI with small data and their use cases. "
      ]
    },
    {
      "cell_type": "markdown",
      "id": "78da2390",
      "metadata": {
        "id": "78da2390"
      },
      "source": [
        "## Acknowledgement & References"
      ]
    },
    {
      "cell_type": "markdown",
      "id": "67702bb8",
      "metadata": {
        "id": "67702bb8"
      },
      "source": [
        "- data was adapted from Kaggle: [eCommerce Events History in Cosmetics Shop](https://www.kaggle.com/mkechinov/ecommerce-events-history-in-cosmetics-shop)\n",
        "- function `visualize_silhouette` was adapted from [plot_kmeans_silhouette_analysis by scikit-learn](https://scikit-learn.org/stable/auto_examples/cluster/plot_kmeans_silhouette_analysis.html)\n",
        "- [Categorizing Online Shopping Behavior from Cosmetics to Electronics: An Analytical Framework](https://arxiv.org/pdf/2010.02503.pdf)\n",
        "- [OPAM: Online Purchasing-behavior Analysis using Machine learning](https://arxiv.org/pdf/2102.01625.pdf)"
      ]
    }
  ],
  "metadata": {
    "kernelspec": {
      "display_name": "Python 3.9.12 ('base')",
      "language": "python",
      "name": "python3"
    },
    "language_info": {
      "codemirror_mode": {
        "name": "ipython",
        "version": 3
      },
      "file_extension": ".py",
      "mimetype": "text/x-python",
      "name": "python",
      "nbconvert_exporter": "python",
      "pygments_lexer": "ipython3",
      "version": "3.9.12"
    },
    "toc": {
      "base_numbering": 1,
      "nav_menu": {},
      "number_sections": true,
      "sideBar": true,
      "skip_h1_title": false,
      "title_cell": "Table of Contents",
      "title_sidebar": "Contents",
      "toc_cell": false,
      "toc_position": {},
      "toc_section_display": true,
      "toc_window_display": true
    },
    "vscode": {
      "interpreter": {
        "hash": "f70fe2e7e7cb52bf2bf0a2d8cc8af5768efe1556307d7c8f07dd0e6b20b16428"
      }
    },
    "colab": {
      "provenance": []
    }
  },
  "nbformat": 4,
  "nbformat_minor": 5
}